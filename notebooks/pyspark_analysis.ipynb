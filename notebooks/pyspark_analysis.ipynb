{
 "cells": [
  {
   "cell_type": "markdown",
   "metadata": {},
   "source": [
    "# 1. Initial Setup"
   ]
  },
  {
   "cell_type": "code",
   "execution_count": 7,
   "metadata": {
    "vscode": {
     "languageId": "plaintext"
    }
   },
   "outputs": [],
   "source": [
    "from pyspark.sql import SparkSession\n",
    "from pyspark.sql.functions import col, year, month, count, avg, when\n",
    "import matplotlib.pyplot as plt\n",
    "import seaborn as sns"
   ]
  },
  {
   "cell_type": "code",
   "execution_count": 8,
   "metadata": {},
   "outputs": [],
   "source": [
    "spark = SparkSession.builder.appName(\"Fire Calls Analysis\").getOrCreate()"
   ]
  },
  {
   "cell_type": "markdown",
   "metadata": {},
   "source": [
    "# 2. Load and Inspect Data"
   ]
  },
  {
   "cell_type": "code",
   "execution_count": 9,
   "metadata": {},
   "outputs": [],
   "source": [
    "file_path = \"../data/sf-fire-calls.csv\""
   ]
  },
  {
   "cell_type": "code",
   "execution_count": 10,
   "metadata": {},
   "outputs": [],
   "source": [
    "df = spark.read.csv(file_path, header=True, inferSchema=True)"
   ]
  },
  {
   "cell_type": "code",
   "execution_count": 11,
   "metadata": {},
   "outputs": [
    {
     "name": "stdout",
     "output_type": "stream",
     "text": [
      "root\n",
      " |-- CallNumber: integer (nullable = true)\n",
      " |-- UnitID: string (nullable = true)\n",
      " |-- IncidentNumber: integer (nullable = true)\n",
      " |-- CallType: string (nullable = true)\n",
      " |-- CallDate: string (nullable = true)\n",
      " |-- WatchDate: string (nullable = true)\n",
      " |-- CallFinalDisposition: string (nullable = true)\n",
      " |-- AvailableDtTm: string (nullable = true)\n",
      " |-- Address: string (nullable = true)\n",
      " |-- City: string (nullable = true)\n",
      " |-- Zipcode: integer (nullable = true)\n",
      " |-- Battalion: string (nullable = true)\n",
      " |-- StationArea: string (nullable = true)\n",
      " |-- Box: string (nullable = true)\n",
      " |-- OriginalPriority: string (nullable = true)\n",
      " |-- Priority: string (nullable = true)\n",
      " |-- FinalPriority: integer (nullable = true)\n",
      " |-- ALSUnit: boolean (nullable = true)\n",
      " |-- CallTypeGroup: string (nullable = true)\n",
      " |-- NumAlarms: integer (nullable = true)\n",
      " |-- UnitType: string (nullable = true)\n",
      " |-- UnitSequenceInCallDispatch: integer (nullable = true)\n",
      " |-- FirePreventionDistrict: string (nullable = true)\n",
      " |-- SupervisorDistrict: string (nullable = true)\n",
      " |-- Neighborhood: string (nullable = true)\n",
      " |-- Location: string (nullable = true)\n",
      " |-- RowID: string (nullable = true)\n",
      " |-- Delay: double (nullable = true)\n",
      "\n"
     ]
    }
   ],
   "source": [
    "df.printSchema()"
   ]
  },
  {
   "cell_type": "code",
   "execution_count": 13,
   "metadata": {},
   "outputs": [
    {
     "name": "stdout",
     "output_type": "stream",
     "text": [
      "+----------+------+--------------+----------------+----------+----------+--------------------+--------------------+--------------------+----+-------+---------+-----------+----+----------------+--------+-------------+-------+-------------+---------+--------+--------------------------+----------------------+------------------+--------------------+--------------------+-------------+---------+\n",
      "|CallNumber|UnitID|IncidentNumber|        CallType|  CallDate| WatchDate|CallFinalDisposition|       AvailableDtTm|             Address|City|Zipcode|Battalion|StationArea| Box|OriginalPriority|Priority|FinalPriority|ALSUnit|CallTypeGroup|NumAlarms|UnitType|UnitSequenceInCallDispatch|FirePreventionDistrict|SupervisorDistrict|        Neighborhood|            Location|        RowID|    Delay|\n",
      "+----------+------+--------------+----------------+----------+----------+--------------------+--------------------+--------------------+----+-------+---------+-----------+----+----------------+--------+-------------+-------+-------------+---------+--------+--------------------------+----------------------+------------------+--------------------+--------------------+-------------+---------+\n",
      "|  20110016|   T13|       2003235|  Structure Fire|01/11/2002|01/10/2002|               Other|01/11/2002 01:51:...|2000 Block of CAL...|  SF|  94109|      B04|         38|3362|               3|       3|            3|  false|         NULL|        1|   TRUCK|                         2|                     4|                 5|     Pacific Heights|(37.7895840679362...|020110016-T13|     2.95|\n",
      "|  20110022|   M17|       2003241|Medical Incident|01/11/2002|01/10/2002|               Other|01/11/2002 03:01:...|0 Block of SILVER...|  SF|  94124|      B10|         42|6495|               3|       3|            3|   true|         NULL|        1|   MEDIC|                         1|                    10|                10|Bayview Hunters P...|(37.7337623673897...|020110022-M17|      4.7|\n",
      "|  20110023|   M41|       2003242|Medical Incident|01/11/2002|01/10/2002|               Other|01/11/2002 02:39:...|MARKET ST/MCALLIS...|  SF|  94102|      B03|         01|1455|               3|       3|            3|   true|         NULL|        1|   MEDIC|                         2|                     3|                 6|          Tenderloin|(37.7811772186856...|020110023-M41|2.4333334|\n",
      "|  20110032|   E11|       2003250|    Vehicle Fire|01/11/2002|01/10/2002|               Other|01/11/2002 04:16:...|APPLETON AV/MISSI...|  SF|  94110|      B06|         32|5626|               3|       3|            3|  false|         NULL|        1|  ENGINE|                         1|                     6|                 9|      Bernal Heights|(37.7388432849018...|020110032-E11|      1.5|\n",
      "|  20110043|   B04|       2003259|          Alarms|01/11/2002|01/10/2002|               Other|01/11/2002 06:01:...|1400 Block of SUT...|  SF|  94109|      B04|         03|3223|               3|       3|            3|  false|         NULL|        1|   CHIEF|                         2|                     4|                 2|    Western Addition|(37.7872890372638...|020110043-B04|3.4833333|\n",
      "+----------+------+--------------+----------------+----------+----------+--------------------+--------------------+--------------------+----+-------+---------+-----------+----+----------------+--------+-------------+-------+-------------+---------+--------+--------------------------+----------------------+------------------+--------------------+--------------------+-------------+---------+\n",
      "only showing top 5 rows\n",
      "\n"
     ]
    }
   ],
   "source": [
    "df.show(5)"
   ]
  },
  {
   "cell_type": "code",
   "execution_count": 15,
   "metadata": {},
   "outputs": [
    {
     "name": "stdout",
     "output_type": "stream",
     "text": [
      "Total lines: 157190\n"
     ]
    }
   ],
   "source": [
    "print(f\"Total lines: {df.count()}\")"
   ]
  },
  {
   "cell_type": "markdown",
   "metadata": {},
   "source": [
    "# 3. Cleaning and Pre-processing"
   ]
  },
  {
   "cell_type": "code",
   "execution_count": 16,
   "metadata": {},
   "outputs": [
    {
     "name": "stdout",
     "output_type": "stream",
     "text": [
      "+----------+------+--------------+--------+--------+---------+--------------------+--------------------+-------+--------------------+--------------------+---------+--------------------+--------------------+--------------------+--------+--------------------+--------------------+------------------+--------------------+--------------------+--------------------------+----------------------+--------------------+--------------------+--------------------+--------------------+--------------------+\n",
      "|CallNumber|UnitID|IncidentNumber|CallType|CallDate|WatchDate|CallFinalDisposition|       AvailableDtTm|Address|                City|             Zipcode|Battalion|         StationArea|                 Box|    OriginalPriority|Priority|       FinalPriority|             ALSUnit|     CallTypeGroup|           NumAlarms|            UnitType|UnitSequenceInCallDispatch|FirePreventionDistrict|  SupervisorDistrict|        Neighborhood|            Location|               RowID|               Delay|\n",
      "+----------+------+--------------+--------+--------+---------+--------------------+--------------------+-------+--------------------+--------------------+---------+--------------------+--------------------+--------------------+--------+--------------------+--------------------+------------------+--------------------+--------------------+--------------------------+----------------------+--------------------+--------------------+--------------------+--------------------+--------------------+\n",
      "|       0.0|   0.0|           0.0|     0.0|     0.0|      0.0|                 0.0|0.011101215090018449|    0.0|0.001138749284305...|8.588332591131752E-4|      0.0|4.707678605509256...|8.270246198867612E-5|0.005865513073350722|     0.0|6.361727845282779E-6|6.361727845282779E-6|0.6088491634327884|6.361727845282779E-6|6.361727845282779E-6|      1.272345569056555...|  6.361727845282779E-6|6.361727845282779E-6|6.361727845282779E-6|6.361727845282779E-6|6.361727845282779E-6|6.361727845282779E-6|\n",
      "+----------+------+--------------+--------+--------+---------+--------------------+--------------------+-------+--------------------+--------------------+---------+--------------------+--------------------+--------------------+--------+--------------------+--------------------+------------------+--------------------+--------------------+--------------------------+----------------------+--------------------+--------------------+--------------------+--------------------+--------------------+\n",
      "\n"
     ]
    }
   ],
   "source": [
    "# missing values per column\n",
    "missing_values = df.select([(count(when(col(c).isNull(), c)) / df.count()).alias(c) for c in df.columns])\n",
    "missing_values.show()"
   ]
  },
  {
   "cell_type": "code",
   "execution_count": 19,
   "metadata": {},
   "outputs": [],
   "source": [
    "# Remove or fill null values from important columns\n",
    "df_cleaned = df.fillna(\n",
    "    {\n",
    "        'city': 'Unknown',\n",
    "        'CallTypeGroup': 'Not Classified',\n",
    "        'Delay': 0.0\n",
    "    }\n",
    ")"
   ]
  },
  {
   "cell_type": "code",
   "execution_count": 20,
   "metadata": {},
   "outputs": [],
   "source": [
    "# Convert CallDate to Timestamp\n",
    "df_cleaned = df_cleaned.withColumn(\"CallDate\", col(\"CallDate\").cast(\"date\"))"
   ]
  },
  {
   "cell_type": "code",
   "execution_count": 23,
   "metadata": {},
   "outputs": [],
   "source": [
    "# Add Year and Month columns\n",
    "df_cleaned = df_cleaned.withColumn(\"Year\", year(\"CallDate\")).withColumn(\"Month\", month(\"CallDate\"))"
   ]
  },
  {
   "cell_type": "code",
   "execution_count": 24,
   "metadata": {},
   "outputs": [
    {
     "name": "stdout",
     "output_type": "stream",
     "text": [
      "+----------+------+--------------+----------------+--------+----------+--------------------+--------------------+--------------------+----+-------+---------+-----------+----+----------------+--------+-------------+-------+--------------+---------+--------+--------------------------+----------------------+------------------+--------------------+--------------------+-------------+---------+----+-----+\n",
      "|CallNumber|UnitID|IncidentNumber|        CallType|CallDate| WatchDate|CallFinalDisposition|       AvailableDtTm|             Address|City|Zipcode|Battalion|StationArea| Box|OriginalPriority|Priority|FinalPriority|ALSUnit| CallTypeGroup|NumAlarms|UnitType|UnitSequenceInCallDispatch|FirePreventionDistrict|SupervisorDistrict|        Neighborhood|            Location|        RowID|    Delay|Year|Month|\n",
      "+----------+------+--------------+----------------+--------+----------+--------------------+--------------------+--------------------+----+-------+---------+-----------+----+----------------+--------+-------------+-------+--------------+---------+--------+--------------------------+----------------------+------------------+--------------------+--------------------+-------------+---------+----+-----+\n",
      "|  20110016|   T13|       2003235|  Structure Fire|    NULL|01/10/2002|               Other|01/11/2002 01:51:...|2000 Block of CAL...|  SF|  94109|      B04|         38|3362|               3|       3|            3|  false|Not Classified|        1|   TRUCK|                         2|                     4|                 5|     Pacific Heights|(37.7895840679362...|020110016-T13|     2.95|NULL| NULL|\n",
      "|  20110022|   M17|       2003241|Medical Incident|    NULL|01/10/2002|               Other|01/11/2002 03:01:...|0 Block of SILVER...|  SF|  94124|      B10|         42|6495|               3|       3|            3|   true|Not Classified|        1|   MEDIC|                         1|                    10|                10|Bayview Hunters P...|(37.7337623673897...|020110022-M17|      4.7|NULL| NULL|\n",
      "|  20110023|   M41|       2003242|Medical Incident|    NULL|01/10/2002|               Other|01/11/2002 02:39:...|MARKET ST/MCALLIS...|  SF|  94102|      B03|         01|1455|               3|       3|            3|   true|Not Classified|        1|   MEDIC|                         2|                     3|                 6|          Tenderloin|(37.7811772186856...|020110023-M41|2.4333334|NULL| NULL|\n",
      "|  20110032|   E11|       2003250|    Vehicle Fire|    NULL|01/10/2002|               Other|01/11/2002 04:16:...|APPLETON AV/MISSI...|  SF|  94110|      B06|         32|5626|               3|       3|            3|  false|Not Classified|        1|  ENGINE|                         1|                     6|                 9|      Bernal Heights|(37.7388432849018...|020110032-E11|      1.5|NULL| NULL|\n",
      "|  20110043|   B04|       2003259|          Alarms|    NULL|01/10/2002|               Other|01/11/2002 06:01:...|1400 Block of SUT...|  SF|  94109|      B04|         03|3223|               3|       3|            3|  false|Not Classified|        1|   CHIEF|                         2|                     4|                 2|    Western Addition|(37.7872890372638...|020110043-B04|3.4833333|NULL| NULL|\n",
      "+----------+------+--------------+----------------+--------+----------+--------------------+--------------------+--------------------+----+-------+---------+-----------+----+----------------+--------+-------------+-------+--------------+---------+--------+--------------------------+----------------------+------------------+--------------------+--------------------+-------------+---------+----+-----+\n",
      "only showing top 5 rows\n",
      "\n"
     ]
    }
   ],
   "source": [
    "df_cleaned.show(5)"
   ]
  },
  {
   "cell_type": "markdown",
   "metadata": {},
   "source": [
    "# 4. Exploration and Analysis"
   ]
  },
  {
   "cell_type": "code",
   "execution_count": 25,
   "metadata": {},
   "outputs": [
    {
     "name": "stdout",
     "output_type": "stream",
     "text": [
      "+--------------------+------+\n",
      "|            CallType| count|\n",
      "+--------------------+------+\n",
      "|    Medical Incident|101589|\n",
      "|      Structure Fire| 21348|\n",
      "|              Alarms| 17368|\n",
      "|   Traffic Collision|  6378|\n",
      "|Citizen Assist / ...|  2293|\n",
      "|               Other|  1890|\n",
      "|        Outside Fire|  1846|\n",
      "|        Vehicle Fire|   779|\n",
      "|        Water Rescue|   675|\n",
      "|Gas Leak (Natural...|   675|\n",
      "+--------------------+------+\n",
      "only showing top 10 rows\n",
      "\n"
     ]
    }
   ],
   "source": [
    "# Top 10 Call Types\n",
    "top_call_types = df_cleaned.groupBy(\"CallType\").count().orderBy(\"count\", ascending=False)\n",
    "top_call_types.show(10)"
   ]
  },
  {
   "cell_type": "code",
   "execution_count": 26,
   "metadata": {},
   "outputs": [
    {
     "name": "stdout",
     "output_type": "stream",
     "text": [
      "+----+------+\n",
      "|Year| count|\n",
      "+----+------+\n",
      "|NULL|157190|\n",
      "+----+------+\n",
      "\n"
     ]
    }
   ],
   "source": [
    "# Number of Calls per Year\n",
    "calls_per_year = df_cleaned.groupBy(\"Year\").count().orderBy(\"Year\")\n",
    "calls_per_year.show()"
   ]
  },
  {
   "cell_type": "code",
   "execution_count": 27,
   "metadata": {},
   "outputs": [
    {
     "name": "stdout",
     "output_type": "stream",
     "text": [
      "+----+----------------+\n",
      "|Year|        AvgDelay|\n",
      "+----+----------------+\n",
      "|NULL|3.90136819620152|\n",
      "+----+----------------+\n",
      "\n"
     ]
    }
   ],
   "source": [
    "# Average Response Time (Delay)\n",
    "avg_delay_per_year = df_cleaned.groupBy(\"Year\").agg(avg(\"Delay\").alias(\"AvgDelay\")).orderBy(\"Year\")\n",
    "avg_delay_per_year.show()"
   ]
  },
  {
   "cell_type": "markdown",
   "metadata": {},
   "source": [
    "# 5. SQL Queries"
   ]
  },
  {
   "cell_type": "code",
   "execution_count": 46,
   "metadata": {},
   "outputs": [],
   "source": [
    "# Temporary table for SQL\n",
    "df_cleaned.createOrReplaceTempView(\"fire_calls\")"
   ]
  },
  {
   "cell_type": "code",
   "execution_count": 34,
   "metadata": {},
   "outputs": [
    {
     "name": "stdout",
     "output_type": "stream",
     "text": [
      "+---------+----------+-----------+\n",
      "|namespace| tableName|isTemporary|\n",
      "+---------+----------+-----------+\n",
      "|         |fire_calls|       true|\n",
      "+---------+----------+-----------+\n",
      "\n"
     ]
    }
   ],
   "source": [
    "spark.sql(\"SHOW TABLES\").show()"
   ]
  },
  {
   "cell_type": "code",
   "execution_count": 38,
   "metadata": {},
   "outputs": [
    {
     "name": "stdout",
     "output_type": "stream",
     "text": [
      "+----------+------+--------------+----------------+--------+----------+--------------------+--------------------+--------------------+----+-------+---------+-----------+----+----------------+--------+-------------+-------+--------------+---------+--------+--------------------------+----------------------+------------------+--------------------+--------------------+-------------+---------+----+-----+\n",
      "|CallNumber|UnitID|IncidentNumber|        CallType|CallDate| WatchDate|CallFinalDisposition|       AvailableDtTm|             Address|City|Zipcode|Battalion|StationArea| Box|OriginalPriority|Priority|FinalPriority|ALSUnit| CallTypeGroup|NumAlarms|UnitType|UnitSequenceInCallDispatch|FirePreventionDistrict|SupervisorDistrict|        Neighborhood|            Location|        RowID|    Delay|Year|Month|\n",
      "+----------+------+--------------+----------------+--------+----------+--------------------+--------------------+--------------------+----+-------+---------+-----------+----+----------------+--------+-------------+-------+--------------+---------+--------+--------------------------+----------------------+------------------+--------------------+--------------------+-------------+---------+----+-----+\n",
      "|  20110016|   T13|       2003235|  Structure Fire|    NULL|01/10/2002|               Other|01/11/2002 01:51:...|2000 Block of CAL...|  SF|  94109|      B04|         38|3362|               3|       3|            3|  false|Not Classified|        1|   TRUCK|                         2|                     4|                 5|     Pacific Heights|(37.7895840679362...|020110016-T13|     2.95|NULL| NULL|\n",
      "|  20110022|   M17|       2003241|Medical Incident|    NULL|01/10/2002|               Other|01/11/2002 03:01:...|0 Block of SILVER...|  SF|  94124|      B10|         42|6495|               3|       3|            3|   true|Not Classified|        1|   MEDIC|                         1|                    10|                10|Bayview Hunters P...|(37.7337623673897...|020110022-M17|      4.7|NULL| NULL|\n",
      "|  20110023|   M41|       2003242|Medical Incident|    NULL|01/10/2002|               Other|01/11/2002 02:39:...|MARKET ST/MCALLIS...|  SF|  94102|      B03|         01|1455|               3|       3|            3|   true|Not Classified|        1|   MEDIC|                         2|                     3|                 6|          Tenderloin|(37.7811772186856...|020110023-M41|2.4333334|NULL| NULL|\n",
      "|  20110032|   E11|       2003250|    Vehicle Fire|    NULL|01/10/2002|               Other|01/11/2002 04:16:...|APPLETON AV/MISSI...|  SF|  94110|      B06|         32|5626|               3|       3|            3|  false|Not Classified|        1|  ENGINE|                         1|                     6|                 9|      Bernal Heights|(37.7388432849018...|020110032-E11|      1.5|NULL| NULL|\n",
      "|  20110043|   B04|       2003259|          Alarms|    NULL|01/10/2002|               Other|01/11/2002 06:01:...|1400 Block of SUT...|  SF|  94109|      B04|         03|3223|               3|       3|            3|  false|Not Classified|        1|   CHIEF|                         2|                     4|                 2|    Western Addition|(37.7872890372638...|020110043-B04|3.4833333|NULL| NULL|\n",
      "+----------+------+--------------+----------------+--------+----------+--------------------+--------------------+--------------------+----+-------+---------+-----------+----+----------------+--------+-------------+-------+--------------+---------+--------+--------------------------+----------------------+------------------+--------------------+--------------------+-------------+---------+----+-----+\n",
      "\n"
     ]
    }
   ],
   "source": [
    "spark.sql(\"SELECT * FROM fire_calls LIMIT 5\").show()"
   ]
  },
  {
   "cell_type": "code",
   "execution_count": 45,
   "metadata": {},
   "outputs": [
    {
     "name": "stdout",
     "output_type": "stream",
     "text": [
      "root\n",
      " |-- CallNumber: integer (nullable = true)\n",
      " |-- UnitID: string (nullable = true)\n",
      " |-- IncidentNumber: integer (nullable = true)\n",
      " |-- CallType: string (nullable = true)\n",
      " |-- CallDate: date (nullable = true)\n",
      " |-- WatchDate: string (nullable = true)\n",
      " |-- CallFinalDisposition: string (nullable = true)\n",
      " |-- AvailableDtTm: string (nullable = true)\n",
      " |-- Address: string (nullable = true)\n",
      " |-- City: string (nullable = false)\n",
      " |-- Zipcode: integer (nullable = true)\n",
      " |-- Battalion: string (nullable = true)\n",
      " |-- StationArea: string (nullable = true)\n",
      " |-- Box: string (nullable = true)\n",
      " |-- OriginalPriority: string (nullable = true)\n",
      " |-- Priority: string (nullable = true)\n",
      " |-- FinalPriority: integer (nullable = true)\n",
      " |-- ALSUnit: boolean (nullable = true)\n",
      " |-- CallTypeGroup: string (nullable = false)\n",
      " |-- NumAlarms: integer (nullable = true)\n",
      " |-- UnitType: string (nullable = true)\n",
      " |-- UnitSequenceInCallDispatch: integer (nullable = true)\n",
      " |-- FirePreventionDistrict: string (nullable = true)\n",
      " |-- SupervisorDistrict: string (nullable = true)\n",
      " |-- Neighborhood: string (nullable = true)\n",
      " |-- Location: string (nullable = true)\n",
      " |-- RowID: string (nullable = true)\n",
      " |-- Delay: double (nullable = false)\n",
      " |-- Year: integer (nullable = true)\n",
      " |-- Month: integer (nullable = true)\n",
      "\n"
     ]
    }
   ],
   "source": [
    "df_cleaned.printSchema()"
   ]
  },
  {
   "cell_type": "code",
   "execution_count": 31,
   "metadata": {},
   "outputs": [
    {
     "name": "stdout",
     "output_type": "stream",
     "text": [
      "+--------------+----------+\n",
      "|      UnitType|TotalCalls|\n",
      "+--------------+----------+\n",
      "|        ENGINE|     62287|\n",
      "|         MEDIC|     49322|\n",
      "|         TRUCK|     17211|\n",
      "|         CHIEF|     11748|\n",
      "|       PRIVATE|      9290|\n",
      "|RESCUE CAPTAIN|      3742|\n",
      "|  RESCUE SQUAD|      2682|\n",
      "|       SUPPORT|       406|\n",
      "|       AIRPORT|       357|\n",
      "| INVESTIGATION|       144|\n",
      "|          NULL|         1|\n",
      "+--------------+----------+\n",
      "\n"
     ]
    }
   ],
   "source": [
    "# Question: How many calls were made per unit type?\n",
    "unit_call_count = spark.sql(\"\"\"\n",
    "    SELECT UnitType, COUNT(*) as TotalCalls\n",
    "    FROM fire_calls\n",
    "    GROUP BY UnitType\n",
    "    ORDER BY TotalCalls DESC\n",
    "\"\"\")\n",
    "unit_call_count.show()"
   ]
  },
  {
   "cell_type": "code",
   "execution_count": 47,
   "metadata": {},
   "outputs": [
    {
     "name": "stdout",
     "output_type": "stream",
     "text": [
      "+---------------+------------------+\n",
      "|   Neighborhood|          AvgDelay|\n",
      "+---------------+------------------+\n",
      "|Treasure Island|5.5025680733815925|\n",
      "|       Presidio|4.9915593475150235|\n",
      "|    Mission Bay| 4.634138498369565|\n",
      "|           None| 4.416570344947977|\n",
      "|     Twin Peaks| 4.406135637857911|\n",
      "+---------------+------------------+\n",
      "\n"
     ]
    }
   ],
   "source": [
    "# Question: Which were the 5 neinoghborhoods with the highest average response time?\n",
    "neighborhood_delay = spark.sql(\"\"\"\n",
    "    SELECT Neighborhood, AVG(Delay) as AvgDelay\n",
    "    FROM fire_calls\n",
    "    WHERE Neighborhood IS NOT NULL\n",
    "    GROUP BY Neighborhood\n",
    "    ORDER BY AvgDelay DESC\n",
    "    LIMIT 5\n",
    "\"\"\")\n",
    "neighborhood_delay.show()"
   ]
  },
  {
   "cell_type": "markdown",
   "metadata": {},
   "source": [
    "# 6. Views"
   ]
  },
  {
   "cell_type": "code",
   "execution_count": 48,
   "metadata": {},
   "outputs": [],
   "source": [
    "# Converting PySpark DataFrames to Pandas for Visualization\n",
    "top_call_types_pd = top_call_types.toPandas()\n",
    "calls_per_year_pd = calls_per_year.toPandas()\n",
    "avg_delay_per_year_pd = avg_delay_per_year.toPandas()"
   ]
  },
  {
   "cell_type": "code",
   "execution_count": 49,
   "metadata": {},
   "outputs": [],
   "source": [
    "sns.set(style=\"whitegrid\")"
   ]
  },
  {
   "cell_type": "code",
   "execution_count": 54,
   "metadata": {},
   "outputs": [
    {
     "data": {
      "image/png": "[encoded data removed]",
      "text/plain": [
       "<Figure size 1000x600 with 1 Axes>"
      ]
     },
     "metadata": {},
     "output_type": "display_data"
    }
   ],
   "source": [
    "# Graph: Top 10 Call Types\n",
    "plt.figure(figsize=(10, 6))\n",
    "sns.barplot(data=top_call_types_pd.head(10), x='count', y='CallType')\n",
    "plt.title(\"Top 10 Call Types\")\n",
    "plt.xlabel(\"Amount\")\n",
    "plt.ylabel(\"Call Type\")\n",
    "plt.show()"
   ]
  },
  {
   "cell_type": "code",
   "execution_count": 55,
   "metadata": {},
   "outputs": [
    {
     "data": {
      "image/png": "[encoded data removed]",
      "text/plain": [
       "<Figure size 1000x600 with 1 Axes>"
      ]
     },
     "metadata": {},
     "output_type": "display_data"
    }
   ],
   "source": [
    "# Graph: Number of Calls per Year\n",
    "plt.figure(figsize=(10, 6))\n",
    "sns.lineplot(data=calls_per_year_pd, x='Year', y='count', marker='o')\n",
    "plt.title(\"Number of Calls per Year\")\n",
    "plt.xlabel(\"Year\")\n",
    "plt.ylabel(\"Number of Calls\")\n",
    "plt.show()"
   ]
  },
  {
   "cell_type": "code",
   "execution_count": 57,
   "metadata": {},
   "outputs": [
    {
     "data": {
      "image/png": "[encoded data removed]",
      "text/plain": [
       "<Figure size 1000x600 with 1 Axes>"
      ]
     },
     "metadata": {},
     "output_type": "display_data"
    }
   ],
   "source": [
    "# Graph: Average Response Time per Year\n",
    "plt.figure(figsize=(10, 6))\n",
    "sns.barplot(data=avg_delay_per_year_pd, x='Year', y='AvgDelay')\n",
    "plt.title(\"Average Response Time per Year\")\n",
    "plt.xlabel(\"Year\")\n",
    "plt.ylabel(\"Average Response Time (minutes)\")\n",
    "plt.show()"
   ]
  },
  {
   "cell_type": "code",
   "execution_count": null,
   "metadata": {},
   "outputs": [],
   "source": []
  }
 ],
 "metadata": {
  "kernelspec": {
   "display_name": "Python 3 (ipykernel)",
   "language": "python",
   "name": "python3"
  },
  "language_info": {
   "codemirror_mode": {
    "name": "ipython",
    "version": 3
   },
   "file_extension": ".py",
   "mimetype": "text/x-python",
   "name": "python",
   "nbconvert_exporter": "python",
   "pygments_lexer": "ipython3",
   "version": "3.12.3"
  }
 },
 "nbformat": 4,
 "nbformat_minor": 4
}

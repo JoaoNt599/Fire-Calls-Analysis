{
 "cells": [
  {
   "cell_type": "markdown",
   "metadata": {},
   "source": [
    "# 1. Initial Setup"
   ]
  },
  {
   "cell_type": "code",
   "execution_count": 21,
   "metadata": {},
   "outputs": [],
   "source": [
    "import pandas as pd\n",
    "import numpy as np\n",
    "from sklearn.model_selection import train_test_split, GridSearchCV, cross_val_score\n",
    "from sklearn.metrics import mean_squared_error, r2_score, mean_absolute_error\n",
    "from sklearn.ensemble import RandomForestRegressor, GradientBoostingRegressor\n",
    "from sklearn.linear_model import LinearRegression\n",
    "from sklearn.preprocessing import StandardScaler, LabelEncoder\n",
    "import matplotlib.pyplot as plt\n",
    "import seaborn as sns"
   ]
  },
  {
   "cell_type": "code",
   "execution_count": 22,
   "metadata": {},
   "outputs": [],
   "source": [
    "sns.set(style=\"whitegrid\")"
   ]
  },
  {
   "cell_type": "code",
   "execution_count": 23,
   "metadata": {},
   "outputs": [],
   "source": [
    "file_path = \"../data/sf-fire-calls.csv\"\n",
    "column_types = {\n",
    "    'StationArea': 'str',\n",
    "    'Box': 'str',\n",
    "    'ALSUnit': 'str',\n",
    "    'CallTypeGroup': 'str'\n",
    "}\n",
    "df = pd.read_csv(file_path, dtype=column_types, low_memory=False)"
   ]
  },
  {
   "cell_type": "markdown",
   "metadata": {},
   "source": [
    "# 2. Cleaning and Pre-processing"
   ]
  },
  {
   "cell_type": "code",
   "execution_count": 24,
   "metadata": {},
   "outputs": [
    {
     "name": "stdout",
     "output_type": "stream",
     "text": [
      "<class 'pandas.core.frame.DataFrame'>\n",
      "RangeIndex: 157190 entries, 0 to 157189\n",
      "Data columns (total 28 columns):\n",
      " #   Column                      Non-Null Count   Dtype  \n",
      "---  ------                      --------------   -----  \n",
      " 0   CallNumber                  157190 non-null  int64  \n",
      " 1   UnitID                      157190 non-null  object \n",
      " 2   IncidentNumber              157190 non-null  int64  \n",
      " 3   CallType                    157190 non-null  object \n",
      " 4   CallDate                    157190 non-null  object \n",
      " 5   WatchDate                   157190 non-null  object \n",
      " 6   CallFinalDisposition        157190 non-null  object \n",
      " 7   AvailableDtTm               155445 non-null  object \n",
      " 8   Address                     157190 non-null  object \n",
      " 9   City                        157011 non-null  object \n",
      " 10  Zipcode                     157055 non-null  float64\n",
      " 11  Battalion                   157190 non-null  object \n",
      " 12  StationArea                 157116 non-null  object \n",
      " 13  Box                         157177 non-null  object \n",
      " 14  OriginalPriority            156268 non-null  object \n",
      " 15  Priority                    157190 non-null  object \n",
      " 16  FinalPriority               157189 non-null  float64\n",
      " 17  ALSUnit                     157189 non-null  object \n",
      " 18  CallTypeGroup               61485 non-null   object \n",
      " 19  NumAlarms                   157189 non-null  float64\n",
      " 20  UnitType                    157189 non-null  object \n",
      " 21  UnitSequenceInCallDispatch  157188 non-null  float64\n",
      " 22  FirePreventionDistrict      155962 non-null  float64\n",
      " 23  SupervisorDistrict          157071 non-null  float64\n",
      " 24  Neighborhood                157016 non-null  object \n",
      " 25  Location                    157189 non-null  object \n",
      " 26  RowID                       157189 non-null  object \n",
      " 27  Delay                       157189 non-null  float64\n",
      "dtypes: float64(7), int64(2), object(19)\n",
      "memory usage: 33.6+ MB\n",
      "None\n"
     ]
    }
   ],
   "source": [
    "print(df.info())"
   ]
  },
  {
   "cell_type": "code",
   "execution_count": 25,
   "metadata": {},
   "outputs": [],
   "source": [
    "# Remove irrelevant columns\n",
    "cols_to_drop = ['CallNumber', 'IncidentNumber', 'Address', 'RowID', 'Location']\n",
    "df.drop(columns=cols_to_drop, inplace=True)"
   ]
  },
  {
   "cell_type": "code",
   "execution_count": 26,
   "metadata": {},
   "outputs": [],
   "source": [
    "# Handle missing values\n",
    "df['Delay'] = df['Delay'].fillna(df['Delay'].mean())\n",
    "df['City'] = df['City'].fillna('Unknown')"
   ]
  },
  {
   "cell_type": "code",
   "execution_count": 28,
   "metadata": {},
   "outputs": [],
   "source": [
    "# Convert dates\n",
    "df['CallDate'] = pd.to_datetime(df['CallDate'])\n",
    "df['Year'] = df['CallDate'].dt.year"
   ]
  },
  {
   "cell_type": "code",
   "execution_count": 30,
   "metadata": {},
   "outputs": [],
   "source": [
    "# Encode categorical variables\n",
    "categorical_features = ['CallType', 'City', 'CallFinalDisposition', 'UnitType']\n",
    "df_encoded = pd.get_dummies(df, columns=categorical_features, drop_first=True)"
   ]
  },
  {
   "cell_type": "code",
   "execution_count": 31,
   "metadata": {},
   "outputs": [
    {
     "name": "stdout",
     "output_type": "stream",
     "text": [
      "  UnitID   CallDate   WatchDate           AvailableDtTm  Zipcode Battalion  \\\n",
      "0    T13 2002-01-11  01/10/2002  01/11/2002 01:51:44 AM  94109.0       B04   \n",
      "1    M17 2002-01-11  01/10/2002  01/11/2002 03:01:18 AM  94124.0       B10   \n",
      "2    M41 2002-01-11  01/10/2002  01/11/2002 02:39:50 AM  94102.0       B03   \n",
      "3    E11 2002-01-11  01/10/2002  01/11/2002 04:16:46 AM  94110.0       B06   \n",
      "4    B04 2002-01-11  01/10/2002  01/11/2002 06:01:58 AM  94109.0       B04   \n",
      "\n",
      "  StationArea   Box OriginalPriority Priority  ...  \\\n",
      "0          38  3362                3        3  ...   \n",
      "1          42  6495                3        3  ...   \n",
      "2          01  1455                3        3  ...   \n",
      "3          32  5626                3        3  ...   \n",
      "4          03  3223                3        3  ...   \n",
      "\n",
      "   CallFinalDisposition_Unable to Locate UnitType_CHIEF UnitType_ENGINE  \\\n",
      "0                                  False          False           False   \n",
      "1                                  False          False           False   \n",
      "2                                  False          False           False   \n",
      "3                                  False          False            True   \n",
      "4                                  False           True           False   \n",
      "\n",
      "   UnitType_INVESTIGATION  UnitType_MEDIC  UnitType_PRIVATE  \\\n",
      "0                   False           False             False   \n",
      "1                   False            True             False   \n",
      "2                   False            True             False   \n",
      "3                   False           False             False   \n",
      "4                   False           False             False   \n",
      "\n",
      "   UnitType_RESCUE CAPTAIN UnitType_RESCUE SQUAD  UnitType_SUPPORT  \\\n",
      "0                    False                 False             False   \n",
      "1                    False                 False             False   \n",
      "2                    False                 False             False   \n",
      "3                    False                 False             False   \n",
      "4                    False                 False             False   \n",
      "\n",
      "   UnitType_TRUCK  \n",
      "0            True  \n",
      "1           False  \n",
      "2           False  \n",
      "3           False  \n",
      "4           False  \n",
      "\n",
      "[5 rows x 95 columns]\n"
     ]
    }
   ],
   "source": [
    "print(df_encoded.head())"
   ]
  },
  {
   "cell_type": "markdown",
   "metadata": {},
   "source": [
    "# 3. Training/Test Split"
   ]
  }
 ],
 "metadata": {
  "kernelspec": {
   "display_name": "Python 3 (ipykernel)",
   "language": "python",
   "name": "python3"
  },
  "language_info": {
   "codemirror_mode": {
    "name": "ipython",
    "version": 3
   },
   "file_extension": ".py",
   "mimetype": "text/x-python",
   "name": "python",
   "nbconvert_exporter": "python",
   "pygments_lexer": "ipython3",
   "version": "3.12.3"
  }
 },
 "nbformat": 4,
 "nbformat_minor": 4
}
